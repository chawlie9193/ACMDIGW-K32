{
  "nbformat": 4,
  "nbformat_minor": 0,
  "metadata": {
    "colab": {
      "provenance": [],
      "gpuType": "T4",
      "mount_file_id": "1wkOTIOaHGBCtgLCmZrbryO-fNTDzptFv",
      "authorship_tag": "ABX9TyPeyF5HnWtceyeT8GIb/egl",
      "include_colab_link": true
    },
    "kernelspec": {
      "name": "python3",
      "display_name": "Python 3"
    },
    "language_info": {
      "name": "python"
    },
    "accelerator": "GPU",
    "widgets": {
      "application/vnd.jupyter.widget-state+json": {
        "058795d4e06146e8bf65beae36ffcbed": {
          "model_module": "@jupyter-widgets/controls",
          "model_name": "HBoxModel",
          "model_module_version": "1.5.0",
          "state": {
            "_dom_classes": [],
            "_model_module": "@jupyter-widgets/controls",
            "_model_module_version": "1.5.0",
            "_model_name": "HBoxModel",
            "_view_count": null,
            "_view_module": "@jupyter-widgets/controls",
            "_view_module_version": "1.5.0",
            "_view_name": "HBoxView",
            "box_style": "",
            "children": [
              "IPY_MODEL_f36fa38fdc664637a464cb58f2523120",
              "IPY_MODEL_96b21047a59142b7b29f9bf905a34970",
              "IPY_MODEL_92a4c8e6c06241fd9b2836fe2a8ace9b"
            ],
            "layout": "IPY_MODEL_8dd889480c3c4f93b3f74cf1b3d17e5f"
          }
        },
        "f36fa38fdc664637a464cb58f2523120": {
          "model_module": "@jupyter-widgets/controls",
          "model_name": "HTMLModel",
          "model_module_version": "1.5.0",
          "state": {
            "_dom_classes": [],
            "_model_module": "@jupyter-widgets/controls",
            "_model_module_version": "1.5.0",
            "_model_name": "HTMLModel",
            "_view_count": null,
            "_view_module": "@jupyter-widgets/controls",
            "_view_module_version": "1.5.0",
            "_view_name": "HTMLView",
            "description": "",
            "description_tooltip": null,
            "layout": "IPY_MODEL_fba845c902ca48a9b04ac8652c506c0c",
            "placeholder": "​",
            "style": "IPY_MODEL_997e0d5a8f024630993a1b67b8ef397b",
            "value": "100%"
          }
        },
        "96b21047a59142b7b29f9bf905a34970": {
          "model_module": "@jupyter-widgets/controls",
          "model_name": "FloatProgressModel",
          "model_module_version": "1.5.0",
          "state": {
            "_dom_classes": [],
            "_model_module": "@jupyter-widgets/controls",
            "_model_module_version": "1.5.0",
            "_model_name": "FloatProgressModel",
            "_view_count": null,
            "_view_module": "@jupyter-widgets/controls",
            "_view_module_version": "1.5.0",
            "_view_name": "ProgressView",
            "bar_style": "success",
            "description": "",
            "description_tooltip": null,
            "layout": "IPY_MODEL_cc8f0209d3994df1b99336bbd8e726d2",
            "max": 111,
            "min": 0,
            "orientation": "horizontal",
            "style": "IPY_MODEL_7cb67e26848e49f7b37f7d4ccb1706c4",
            "value": 111
          }
        },
        "92a4c8e6c06241fd9b2836fe2a8ace9b": {
          "model_module": "@jupyter-widgets/controls",
          "model_name": "HTMLModel",
          "model_module_version": "1.5.0",
          "state": {
            "_dom_classes": [],
            "_model_module": "@jupyter-widgets/controls",
            "_model_module_version": "1.5.0",
            "_model_name": "HTMLModel",
            "_view_count": null,
            "_view_module": "@jupyter-widgets/controls",
            "_view_module_version": "1.5.0",
            "_view_name": "HTMLView",
            "description": "",
            "description_tooltip": null,
            "layout": "IPY_MODEL_4efb6f1c748b4d02aebd724cefd8aaa9",
            "placeholder": "​",
            "style": "IPY_MODEL_2a864b3031654728bff8f070d84691e5",
            "value": " 111/111 [01:13&lt;00:00,  1.54it/s]"
          }
        },
        "8dd889480c3c4f93b3f74cf1b3d17e5f": {
          "model_module": "@jupyter-widgets/base",
          "model_name": "LayoutModel",
          "model_module_version": "1.2.0",
          "state": {
            "_model_module": "@jupyter-widgets/base",
            "_model_module_version": "1.2.0",
            "_model_name": "LayoutModel",
            "_view_count": null,
            "_view_module": "@jupyter-widgets/base",
            "_view_module_version": "1.2.0",
            "_view_name": "LayoutView",
            "align_content": null,
            "align_items": null,
            "align_self": null,
            "border": null,
            "bottom": null,
            "display": null,
            "flex": null,
            "flex_flow": null,
            "grid_area": null,
            "grid_auto_columns": null,
            "grid_auto_flow": null,
            "grid_auto_rows": null,
            "grid_column": null,
            "grid_gap": null,
            "grid_row": null,
            "grid_template_areas": null,
            "grid_template_columns": null,
            "grid_template_rows": null,
            "height": null,
            "justify_content": null,
            "justify_items": null,
            "left": null,
            "margin": null,
            "max_height": null,
            "max_width": null,
            "min_height": null,
            "min_width": null,
            "object_fit": null,
            "object_position": null,
            "order": null,
            "overflow": null,
            "overflow_x": null,
            "overflow_y": null,
            "padding": null,
            "right": null,
            "top": null,
            "visibility": null,
            "width": null
          }
        },
        "fba845c902ca48a9b04ac8652c506c0c": {
          "model_module": "@jupyter-widgets/base",
          "model_name": "LayoutModel",
          "model_module_version": "1.2.0",
          "state": {
            "_model_module": "@jupyter-widgets/base",
            "_model_module_version": "1.2.0",
            "_model_name": "LayoutModel",
            "_view_count": null,
            "_view_module": "@jupyter-widgets/base",
            "_view_module_version": "1.2.0",
            "_view_name": "LayoutView",
            "align_content": null,
            "align_items": null,
            "align_self": null,
            "border": null,
            "bottom": null,
            "display": null,
            "flex": null,
            "flex_flow": null,
            "grid_area": null,
            "grid_auto_columns": null,
            "grid_auto_flow": null,
            "grid_auto_rows": null,
            "grid_column": null,
            "grid_gap": null,
            "grid_row": null,
            "grid_template_areas": null,
            "grid_template_columns": null,
            "grid_template_rows": null,
            "height": null,
            "justify_content": null,
            "justify_items": null,
            "left": null,
            "margin": null,
            "max_height": null,
            "max_width": null,
            "min_height": null,
            "min_width": null,
            "object_fit": null,
            "object_position": null,
            "order": null,
            "overflow": null,
            "overflow_x": null,
            "overflow_y": null,
            "padding": null,
            "right": null,
            "top": null,
            "visibility": null,
            "width": null
          }
        },
        "997e0d5a8f024630993a1b67b8ef397b": {
          "model_module": "@jupyter-widgets/controls",
          "model_name": "DescriptionStyleModel",
          "model_module_version": "1.5.0",
          "state": {
            "_model_module": "@jupyter-widgets/controls",
            "_model_module_version": "1.5.0",
            "_model_name": "DescriptionStyleModel",
            "_view_count": null,
            "_view_module": "@jupyter-widgets/base",
            "_view_module_version": "1.2.0",
            "_view_name": "StyleView",
            "description_width": ""
          }
        },
        "cc8f0209d3994df1b99336bbd8e726d2": {
          "model_module": "@jupyter-widgets/base",
          "model_name": "LayoutModel",
          "model_module_version": "1.2.0",
          "state": {
            "_model_module": "@jupyter-widgets/base",
            "_model_module_version": "1.2.0",
            "_model_name": "LayoutModel",
            "_view_count": null,
            "_view_module": "@jupyter-widgets/base",
            "_view_module_version": "1.2.0",
            "_view_name": "LayoutView",
            "align_content": null,
            "align_items": null,
            "align_self": null,
            "border": null,
            "bottom": null,
            "display": null,
            "flex": null,
            "flex_flow": null,
            "grid_area": null,
            "grid_auto_columns": null,
            "grid_auto_flow": null,
            "grid_auto_rows": null,
            "grid_column": null,
            "grid_gap": null,
            "grid_row": null,
            "grid_template_areas": null,
            "grid_template_columns": null,
            "grid_template_rows": null,
            "height": null,
            "justify_content": null,
            "justify_items": null,
            "left": null,
            "margin": null,
            "max_height": null,
            "max_width": null,
            "min_height": null,
            "min_width": null,
            "object_fit": null,
            "object_position": null,
            "order": null,
            "overflow": null,
            "overflow_x": null,
            "overflow_y": null,
            "padding": null,
            "right": null,
            "top": null,
            "visibility": null,
            "width": null
          }
        },
        "7cb67e26848e49f7b37f7d4ccb1706c4": {
          "model_module": "@jupyter-widgets/controls",
          "model_name": "ProgressStyleModel",
          "model_module_version": "1.5.0",
          "state": {
            "_model_module": "@jupyter-widgets/controls",
            "_model_module_version": "1.5.0",
            "_model_name": "ProgressStyleModel",
            "_view_count": null,
            "_view_module": "@jupyter-widgets/base",
            "_view_module_version": "1.2.0",
            "_view_name": "StyleView",
            "bar_color": null,
            "description_width": ""
          }
        },
        "4efb6f1c748b4d02aebd724cefd8aaa9": {
          "model_module": "@jupyter-widgets/base",
          "model_name": "LayoutModel",
          "model_module_version": "1.2.0",
          "state": {
            "_model_module": "@jupyter-widgets/base",
            "_model_module_version": "1.2.0",
            "_model_name": "LayoutModel",
            "_view_count": null,
            "_view_module": "@jupyter-widgets/base",
            "_view_module_version": "1.2.0",
            "_view_name": "LayoutView",
            "align_content": null,
            "align_items": null,
            "align_self": null,
            "border": null,
            "bottom": null,
            "display": null,
            "flex": null,
            "flex_flow": null,
            "grid_area": null,
            "grid_auto_columns": null,
            "grid_auto_flow": null,
            "grid_auto_rows": null,
            "grid_column": null,
            "grid_gap": null,
            "grid_row": null,
            "grid_template_areas": null,
            "grid_template_columns": null,
            "grid_template_rows": null,
            "height": null,
            "justify_content": null,
            "justify_items": null,
            "left": null,
            "margin": null,
            "max_height": null,
            "max_width": null,
            "min_height": null,
            "min_width": null,
            "object_fit": null,
            "object_position": null,
            "order": null,
            "overflow": null,
            "overflow_x": null,
            "overflow_y": null,
            "padding": null,
            "right": null,
            "top": null,
            "visibility": null,
            "width": null
          }
        },
        "2a864b3031654728bff8f070d84691e5": {
          "model_module": "@jupyter-widgets/controls",
          "model_name": "DescriptionStyleModel",
          "model_module_version": "1.5.0",
          "state": {
            "_model_module": "@jupyter-widgets/controls",
            "_model_module_version": "1.5.0",
            "_model_name": "DescriptionStyleModel",
            "_view_count": null,
            "_view_module": "@jupyter-widgets/base",
            "_view_module_version": "1.2.0",
            "_view_name": "StyleView",
            "description_width": ""
          }
        }
      }
    }
  },
  "cells": [
    {
      "cell_type": "markdown",
      "metadata": {
        "id": "view-in-github",
        "colab_type": "text"
      },
      "source": [
        "<a href=\"https://colab.research.google.com/github/chawlie9193/ACMDIGW-K32/blob/main/extracting_and_saving_data_jpynb.ipynb\" target=\"_parent\"><img src=\"https://colab.research.google.com/assets/colab-badge.svg\" alt=\"Open In Colab\"/></a>"
      ]
    },
    {
      "cell_type": "code",
      "source": [
        "# this is a comment\n",
        "1 + 1"
      ],
      "metadata": {
        "id": "hZNKJcEI-c7v",
        "colab": {
          "base_uri": "https://localhost:8080/"
        },
        "outputId": "a94a684b-8459-4d62-8db9-3bd0d4f2c35d"
      },
      "execution_count": null,
      "outputs": [
        {
          "output_type": "execute_result",
          "data": {
            "text/plain": [
              "2"
            ]
          },
          "metadata": {},
          "execution_count": 1
        }
      ]
    },
    {
      "cell_type": "code",
      "execution_count": null,
      "metadata": {
        "id": "Bqi2uheR5BWw"
      },
      "outputs": [],
      "source": [
        "# most common shortcut keys\n",
        "# ctrl + / = to comment a code\n",
        "# ctrl + enter = run your code/run a code block\n",
        "# ctrl + m, b = create a code block below\n",
        "# ctrl + m, a = create a code block above"
      ]
    },
    {
      "cell_type": "code",
      "source": [
        "# connect gdrive\n",
        "from google.colab import drive\n",
        "drive.mount('/content/drive')"
      ],
      "metadata": {
        "colab": {
          "base_uri": "https://localhost:8080/"
        },
        "id": "PY0iaus9-0SB",
        "outputId": "72cd9c3d-5d2b-4adf-a8d3-cf12d95b2b0d"
      },
      "execution_count": null,
      "outputs": [
        {
          "output_type": "stream",
          "name": "stdout",
          "text": [
            "Drive already mounted at /content/drive; to attempt to forcibly remount, call drive.mount(\"/content/drive\", force_remount=True).\n"
          ]
        }
      ]
    },
    {
      "cell_type": "code",
      "source": [
        "# install yelpapi\n",
        "!pip install yelpapi --quiet"
      ],
      "metadata": {
        "id": "UlhrLlNJ_blJ"
      },
      "execution_count": null,
      "outputs": []
    },
    {
      "cell_type": "code",
      "source": [
        "# import libraries\n",
        "import pandas as pd\n",
        "import numpy as np\n",
        "import matplotlib.pyplot as plt\n",
        "import seaborn as sns\n",
        "\n",
        "# additional libraries\n",
        "import os, json, math, time\n",
        "from yelpapi import YelpAPI\n",
        "from tqdm.notebook import tqdm_notebook"
      ],
      "metadata": {
        "id": "piWkKm9RBSHS"
      },
      "execution_count": null,
      "outputs": []
    },
    {
      "cell_type": "markdown",
      "source": [
        "#  Loading Credentials and Creating the YelpAPI object\n"
      ],
      "metadata": {
        "id": "aHhziLYBBzzT"
      }
    },
    {
      "cell_type": "code",
      "source": [
        "# load yelp API credentials and instantiate the YelpAPI object\n",
        "with open('/content/drive/MyDrive/Colab Notebooks/credentials/yelp_api.json') as file:\n",
        "  yelp_credentials = json.load(file)\n",
        "\n",
        "# create the yelp api engine\n",
        "yelp_api = YelpAPI(yelp_credentials['api-key'], timeout_s = 5.0)"
      ],
      "metadata": {
        "id": "XCCzap-XCJ-K"
      },
      "execution_count": null,
      "outputs": []
    },
    {
      "cell_type": "code",
      "source": [
        "# define API call parameters and output file path\n",
        "LOCATION = 'Greenville, SC'\n",
        "TERM = 'Sushi'\n",
        "JSON_FILE = '/Data/results_SC_sushi.json'\n",
        "\n",
        "# display the destination file path\n",
        "print(f'Data will be saved to: {JSON_FILE}')"
      ],
      "metadata": {
        "colab": {
          "base_uri": "https://localhost:8080/"
        },
        "id": "EEAundj__u_2",
        "outputId": "ad5253ba-f144-45b4-8168-617d11d687de"
      },
      "execution_count": null,
      "outputs": [
        {
          "output_type": "stream",
          "name": "stdout",
          "text": [
            "Data will be saved to: /Data/results_SC_sushi.json\n"
          ]
        }
      ]
    },
    {
      "cell_type": "code",
      "source": [
        "# check if JSON_FILE exists and create if it doesn't\n",
        "if not os.path.isfile(JSON_FILE):\n",
        "\n",
        "  # create the directory\n",
        "  os.makedirs(os.path.dirname(JSON_FILE), exist_ok = True)\n",
        "\n",
        "  # confirm and save an empty list on the file\n",
        "  print(f'[i] {JSON_FILE} not found. Saving empty list on file')\n",
        "  with open(JSON_FILE, 'w') as file:\n",
        "    json.dump([], file)\n",
        "\n",
        "else:\n",
        "  # inform the user if the file alreadt exists\n",
        "  print(f'[i] {JSON_FILE} already exists.')"
      ],
      "metadata": {
        "colab": {
          "base_uri": "https://localhost:8080/"
        },
        "id": "2Fce2FTEBQyF",
        "outputId": "18961a51-6125-4878-ab1d-8345788d20c9"
      },
      "execution_count": null,
      "outputs": [
        {
          "output_type": "stream",
          "name": "stdout",
          "text": [
            "[i] /Data/results_SC_sushi.json not found. Saving empty list on file\n"
          ]
        }
      ]
    },
    {
      "cell_type": "code",
      "source": [
        "# load previous results and set offset based on the number of results\n",
        "with open(JSON_FILE, 'r') as file:\n",
        "  previous_results = json.load(file)\n",
        "\n",
        "n_results = len(previous_results)\n",
        "\n",
        "print(f'{n_results} previous results found.')"
      ],
      "metadata": {
        "colab": {
          "base_uri": "https://localhost:8080/"
        },
        "id": "66BZRk8TDu0A",
        "outputId": "fc008e9f-0afb-4e2c-bd3b-5136ae46830f"
      },
      "execution_count": null,
      "outputs": [
        {
          "output_type": "stream",
          "name": "stdout",
          "text": [
            "0 previous results found.\n"
          ]
        }
      ]
    },
    {
      "cell_type": "code",
      "source": [
        "# make first API call\n",
        "results = yelp_api.search_query(location = LOCATION,\n",
        "                                term = TERM,\n",
        "                                offset = n_results)\n",
        "results.keys()"
      ],
      "metadata": {
        "colab": {
          "base_uri": "https://localhost:8080/"
        },
        "id": "-w95PHOnFaLT",
        "outputId": "f79bd229-a57c-4228-90c4-d5c1991be965"
      },
      "execution_count": null,
      "outputs": [
        {
          "output_type": "execute_result",
          "data": {
            "text/plain": [
              "dict_keys(['businesses', 'total', 'region'])"
            ]
          },
          "metadata": {},
          "execution_count": 10
        }
      ]
    },
    {
      "cell_type": "code",
      "source": [
        "# return how many results were found\n",
        "total_results = results['total']\n",
        "total_results"
      ],
      "metadata": {
        "colab": {
          "base_uri": "https://localhost:8080/"
        },
        "id": "Qbww-DqNF60P",
        "outputId": "27189eab-6f8a-4d16-9a7d-6d403480fe40"
      },
      "execution_count": null,
      "outputs": [
        {
          "output_type": "execute_result",
          "data": {
            "text/plain": [
              "111"
            ]
          },
          "metadata": {},
          "execution_count": 11
        }
      ]
    },
    {
      "cell_type": "code",
      "source": [
        "business_results = results['businesses']\n",
        "  # business results was replaced with business_results\n",
        "  # ' symbol should be inside the [] to work\n",
        "\n",
        "# specify the filename where you want to save the data\n",
        "json_file_path = JSON_FILE\n",
        "\n",
        "# save the business data\n",
        "with open(json_file_path, 'w') as file:\n",
        "  json.dump(business_results, file, indent = 4)\n",
        "  # business_data was replaced with business+results\n",
        "\n",
        "# indent = 4 means\n",
        "# save the data in this format\n",
        "# key: value,\n",
        "# key: value,\n",
        "# key: value,\n",
        "# key: value\n",
        "# kasi sabi ko = 4\n",
        "\n",
        "# otherwise, without indent = 4, it will look like:\n",
        "# key: value,key: value,key: value, key: value"
      ],
      "metadata": {
        "id": "b9fRF0M8GRIz"
      },
      "execution_count": null,
      "outputs": []
    },
    {
      "cell_type": "code",
      "source": [
        "# how many details did we get?\n",
        "results_per_page = len(business_results)\n",
        "# business data was replaced with business_results\n",
        "print(f'number of results retrieved per page',results_per_page)"
      ],
      "metadata": {
        "colab": {
          "base_uri": "https://localhost:8080/"
        },
        "id": "5iNGJJvV_HJ7",
        "outputId": "ab60633e-2e1e-45fa-f40f-062a1e70a6af"
      },
      "execution_count": null,
      "outputs": [
        {
          "output_type": "stream",
          "name": "stdout",
          "text": [
            "number of results retrieved per page 20\n"
          ]
        }
      ]
    },
    {
      "cell_type": "code",
      "source": [
        "# using the math.ceil to round up the total number of pages\n",
        "n_pages = math.ceil(total_results/results_per_page)\n",
        "print(f'total number of pages: {n_pages}')"
      ],
      "metadata": {
        "colab": {
          "base_uri": "https://localhost:8080/"
        },
        "id": "0g49QUNy_Ukx",
        "outputId": "9ae674a3-621a-495f-903f-5881e7619177"
      },
      "execution_count": null,
      "outputs": [
        {
          "output_type": "stream",
          "name": "stdout",
          "text": [
            "total number of pages: 6\n"
          ]
        }
      ]
    },
    {
      "cell_type": "code",
      "source": [
        "# create a loop to extract the data\n",
        "for i in tqdm_notebook(range(1, total_results + 1)):\n",
        "  try:\n",
        "    time.sleep(0.2) # short delay to respect API rate limits\n",
        "    # so that when we call, pause, call pause, it doesn't think we're attacking it\n",
        "\n",
        "    # load existing results to append new data\n",
        "    with open(JSON_FILE, 'r') as file:\n",
        "      previous_results = json.load(file)\n",
        "\n",
        "    # fetch new results\n",
        "    new_results = yelp_api.search_query(location = LOCATION,\n",
        "                                        term = TERM,\n",
        "                                        offset = len(previous_results))\n",
        "\n",
        "    # append and save the updated results\n",
        "    updated_results = previous_results + new_results['businesses']\n",
        "    with open(JSON_FILE, 'w') as file: # w should not be capital\n",
        "      json.dump(updated_results, file)\n",
        "\n",
        "  except Exception as e:\n",
        "    if 'Too Many Requests for url' in str(e):\n",
        "      # if you see 'Too many requests for url', use:\n",
        "      print('Rate limit exceeded. Stopping data-collection')\n",
        "      break #exit the loop if the rate limit is exceeded\n",
        "\n",
        "    else:\n",
        "      print(f'An error occured: {e}')\n",
        "      continue #continue to the next iteration in case of other errors"
      ],
      "metadata": {
        "colab": {
          "base_uri": "https://localhost:8080/",
          "height": 49,
          "referenced_widgets": [
            "058795d4e06146e8bf65beae36ffcbed",
            "f36fa38fdc664637a464cb58f2523120",
            "96b21047a59142b7b29f9bf905a34970",
            "92a4c8e6c06241fd9b2836fe2a8ace9b",
            "8dd889480c3c4f93b3f74cf1b3d17e5f",
            "fba845c902ca48a9b04ac8652c506c0c",
            "997e0d5a8f024630993a1b67b8ef397b",
            "cc8f0209d3994df1b99336bbd8e726d2",
            "7cb67e26848e49f7b37f7d4ccb1706c4",
            "4efb6f1c748b4d02aebd724cefd8aaa9",
            "2a864b3031654728bff8f070d84691e5"
          ]
        },
        "id": "iNi1zEIW_hDM",
        "outputId": "ea74df20-8313-495c-bc4a-46710b519ca8"
      },
      "execution_count": null,
      "outputs": [
        {
          "output_type": "display_data",
          "data": {
            "text/plain": [
              "  0%|          | 0/111 [00:00<?, ?it/s]"
            ],
            "application/vnd.jupyter.widget-view+json": {
              "version_major": 2,
              "version_minor": 0,
              "model_id": "058795d4e06146e8bf65beae36ffcbed"
            }
          },
          "metadata": {}
        }
      ]
    },
    {
      "cell_type": "markdown",
      "source": [
        "### Open the final JSON file with Pandas"
      ],
      "metadata": {
        "id": "em2gc6FVFGS7"
      }
    },
    {
      "cell_type": "code",
      "source": [
        "# load the final JSON file\n",
        "df = pd.read_json(JSON_FILE)\n",
        "\n",
        "# display the first 5 rows of the data\n",
        "df.head()"
      ],
      "metadata": {
        "colab": {
          "base_uri": "https://localhost:8080/",
          "height": 590
        },
        "id": "5SfxwaAFFFeH",
        "outputId": "a95315d2-02c7-4af9-85b5-1d7fa22e2515"
      },
      "execution_count": null,
      "outputs": [
        {
          "output_type": "execute_result",
          "data": {
            "text/plain": [
              "                       id                                             alias  \\\n",
              "0  2jXS4oZkMhAONtd2j7L5Yg  chef-21-sushi-burger-and-korean-bbq-greenville-3   \n",
              "1  RGRk1ioORwm_FIX8PM732Q                             konnichiwa-greenville   \n",
              "2  zG_XOAFi9Y560WJ1RvghBw         sushi-masa-japanese-restaurant-greenville   \n",
              "3  7cJxOV-ANX1qLThK3yV96w                         otto-izakaya-greenville-4   \n",
              "4  Kx1x7Kf6C2gtogQErWSu0A                                   o-ku-greenville   \n",
              "\n",
              "                                name  \\\n",
              "0  Chef 21 Sushi Burger & Korean BBQ   \n",
              "1                         Konnichiwa   \n",
              "2     Sushi-Masa Japanese Restaurant   \n",
              "3                       Otto Izakaya   \n",
              "4                               O-Ku   \n",
              "\n",
              "                                           image_url  is_closed  \\\n",
              "0  https://s3-media4.fl.yelpcdn.com/bphoto/DbV4BU...      False   \n",
              "1  https://s3-media3.fl.yelpcdn.com/bphoto/p47H0_...      False   \n",
              "2  https://s3-media1.fl.yelpcdn.com/bphoto/zsRavZ...      False   \n",
              "3  https://s3-media1.fl.yelpcdn.com/bphoto/TdPhFy...      False   \n",
              "4  https://s3-media2.fl.yelpcdn.com/bphoto/7dR0xy...      False   \n",
              "\n",
              "                                                 url  review_count  \\\n",
              "0  https://www.yelp.com/biz/chef-21-sushi-burger-...            38   \n",
              "1  https://www.yelp.com/biz/konnichiwa-greenville...            71   \n",
              "2  https://www.yelp.com/biz/sushi-masa-japanese-r...           163   \n",
              "3  https://www.yelp.com/biz/otto-izakaya-greenvil...           449   \n",
              "4  https://www.yelp.com/biz/o-ku-greenville?adjus...            45   \n",
              "\n",
              "                                          categories  rating  \\\n",
              "0  [{'alias': 'korean', 'title': 'Korean'}, {'ali...     4.5   \n",
              "1  [{'alias': 'sushi', 'title': 'Sushi Bars'}, {'...     4.1   \n",
              "2        [{'alias': 'sushi', 'title': 'Sushi Bars'}]     4.4   \n",
              "3  [{'alias': 'japanese', 'title': 'Japanese'}, {...     4.2   \n",
              "4  [{'alias': 'sushi', 'title': 'Sushi Bars'}, {'...     4.0   \n",
              "\n",
              "                                         coordinates        transactions  \\\n",
              "0   {'latitude': 34.847671, 'longitude': -82.394229}  [pickup, delivery]   \n",
              "1  {'latitude': 34.845952342825115, 'longitude': ...                  []   \n",
              "2  {'latitude': 34.8512725830078, 'longitude': -8...          [delivery]   \n",
              "3  {'latitude': 34.8228218820722, 'longitude': -8...          [delivery]   \n",
              "4  {'latitude': 34.847954222223294, 'longitude': ...                  []   \n",
              "\n",
              "                                            location         phone  \\\n",
              "0  {'address1': '500 E McBee Ave', 'address2': 'S...  +18642633018   \n",
              "1  {'address1': '101 Falls Park Dr', 'address2': ...  +18642524436   \n",
              "2  {'address1': '8590 Pelham Rd', 'address2': 'St...  +18642882227   \n",
              "3  {'address1': '15 Market Point Dr', 'address2':...  +18645688009   \n",
              "4  {'address1': '30 W Broad St', 'address2': None...  +18643264812   \n",
              "\n",
              "    display_phone      distance price  \n",
              "0  (864) 263-3018   3341.861901   NaN  \n",
              "1  (864) 252-4436   4184.255183   NaN  \n",
              "2  (864) 288-2227  11481.830881    $$  \n",
              "3  (864) 568-8009   5933.485357    $$  \n",
              "4  (864) 326-4812   3931.009612   NaN  "
            ],
            "text/html": [
              "\n",
              "  <div id=\"df-4400ae53-9e62-4100-92ad-9341d8552b1f\" class=\"colab-df-container\">\n",
              "    <div>\n",
              "<style scoped>\n",
              "    .dataframe tbody tr th:only-of-type {\n",
              "        vertical-align: middle;\n",
              "    }\n",
              "\n",
              "    .dataframe tbody tr th {\n",
              "        vertical-align: top;\n",
              "    }\n",
              "\n",
              "    .dataframe thead th {\n",
              "        text-align: right;\n",
              "    }\n",
              "</style>\n",
              "<table border=\"1\" class=\"dataframe\">\n",
              "  <thead>\n",
              "    <tr style=\"text-align: right;\">\n",
              "      <th></th>\n",
              "      <th>id</th>\n",
              "      <th>alias</th>\n",
              "      <th>name</th>\n",
              "      <th>image_url</th>\n",
              "      <th>is_closed</th>\n",
              "      <th>url</th>\n",
              "      <th>review_count</th>\n",
              "      <th>categories</th>\n",
              "      <th>rating</th>\n",
              "      <th>coordinates</th>\n",
              "      <th>transactions</th>\n",
              "      <th>location</th>\n",
              "      <th>phone</th>\n",
              "      <th>display_phone</th>\n",
              "      <th>distance</th>\n",
              "      <th>price</th>\n",
              "    </tr>\n",
              "  </thead>\n",
              "  <tbody>\n",
              "    <tr>\n",
              "      <th>0</th>\n",
              "      <td>2jXS4oZkMhAONtd2j7L5Yg</td>\n",
              "      <td>chef-21-sushi-burger-and-korean-bbq-greenville-3</td>\n",
              "      <td>Chef 21 Sushi Burger &amp; Korean BBQ</td>\n",
              "      <td>https://s3-media4.fl.yelpcdn.com/bphoto/DbV4BU...</td>\n",
              "      <td>False</td>\n",
              "      <td>https://www.yelp.com/biz/chef-21-sushi-burger-...</td>\n",
              "      <td>38</td>\n",
              "      <td>[{'alias': 'korean', 'title': 'Korean'}, {'ali...</td>\n",
              "      <td>4.5</td>\n",
              "      <td>{'latitude': 34.847671, 'longitude': -82.394229}</td>\n",
              "      <td>[pickup, delivery]</td>\n",
              "      <td>{'address1': '500 E McBee Ave', 'address2': 'S...</td>\n",
              "      <td>+18642633018</td>\n",
              "      <td>(864) 263-3018</td>\n",
              "      <td>3341.861901</td>\n",
              "      <td>NaN</td>\n",
              "    </tr>\n",
              "    <tr>\n",
              "      <th>1</th>\n",
              "      <td>RGRk1ioORwm_FIX8PM732Q</td>\n",
              "      <td>konnichiwa-greenville</td>\n",
              "      <td>Konnichiwa</td>\n",
              "      <td>https://s3-media3.fl.yelpcdn.com/bphoto/p47H0_...</td>\n",
              "      <td>False</td>\n",
              "      <td>https://www.yelp.com/biz/konnichiwa-greenville...</td>\n",
              "      <td>71</td>\n",
              "      <td>[{'alias': 'sushi', 'title': 'Sushi Bars'}, {'...</td>\n",
              "      <td>4.1</td>\n",
              "      <td>{'latitude': 34.845952342825115, 'longitude': ...</td>\n",
              "      <td>[]</td>\n",
              "      <td>{'address1': '101 Falls Park Dr', 'address2': ...</td>\n",
              "      <td>+18642524436</td>\n",
              "      <td>(864) 252-4436</td>\n",
              "      <td>4184.255183</td>\n",
              "      <td>NaN</td>\n",
              "    </tr>\n",
              "    <tr>\n",
              "      <th>2</th>\n",
              "      <td>zG_XOAFi9Y560WJ1RvghBw</td>\n",
              "      <td>sushi-masa-japanese-restaurant-greenville</td>\n",
              "      <td>Sushi-Masa Japanese Restaurant</td>\n",
              "      <td>https://s3-media1.fl.yelpcdn.com/bphoto/zsRavZ...</td>\n",
              "      <td>False</td>\n",
              "      <td>https://www.yelp.com/biz/sushi-masa-japanese-r...</td>\n",
              "      <td>163</td>\n",
              "      <td>[{'alias': 'sushi', 'title': 'Sushi Bars'}]</td>\n",
              "      <td>4.4</td>\n",
              "      <td>{'latitude': 34.8512725830078, 'longitude': -8...</td>\n",
              "      <td>[delivery]</td>\n",
              "      <td>{'address1': '8590 Pelham Rd', 'address2': 'St...</td>\n",
              "      <td>+18642882227</td>\n",
              "      <td>(864) 288-2227</td>\n",
              "      <td>11481.830881</td>\n",
              "      <td>$$</td>\n",
              "    </tr>\n",
              "    <tr>\n",
              "      <th>3</th>\n",
              "      <td>7cJxOV-ANX1qLThK3yV96w</td>\n",
              "      <td>otto-izakaya-greenville-4</td>\n",
              "      <td>Otto Izakaya</td>\n",
              "      <td>https://s3-media1.fl.yelpcdn.com/bphoto/TdPhFy...</td>\n",
              "      <td>False</td>\n",
              "      <td>https://www.yelp.com/biz/otto-izakaya-greenvil...</td>\n",
              "      <td>449</td>\n",
              "      <td>[{'alias': 'japanese', 'title': 'Japanese'}, {...</td>\n",
              "      <td>4.2</td>\n",
              "      <td>{'latitude': 34.8228218820722, 'longitude': -8...</td>\n",
              "      <td>[delivery]</td>\n",
              "      <td>{'address1': '15 Market Point Dr', 'address2':...</td>\n",
              "      <td>+18645688009</td>\n",
              "      <td>(864) 568-8009</td>\n",
              "      <td>5933.485357</td>\n",
              "      <td>$$</td>\n",
              "    </tr>\n",
              "    <tr>\n",
              "      <th>4</th>\n",
              "      <td>Kx1x7Kf6C2gtogQErWSu0A</td>\n",
              "      <td>o-ku-greenville</td>\n",
              "      <td>O-Ku</td>\n",
              "      <td>https://s3-media2.fl.yelpcdn.com/bphoto/7dR0xy...</td>\n",
              "      <td>False</td>\n",
              "      <td>https://www.yelp.com/biz/o-ku-greenville?adjus...</td>\n",
              "      <td>45</td>\n",
              "      <td>[{'alias': 'sushi', 'title': 'Sushi Bars'}, {'...</td>\n",
              "      <td>4.0</td>\n",
              "      <td>{'latitude': 34.847954222223294, 'longitude': ...</td>\n",
              "      <td>[]</td>\n",
              "      <td>{'address1': '30 W Broad St', 'address2': None...</td>\n",
              "      <td>+18643264812</td>\n",
              "      <td>(864) 326-4812</td>\n",
              "      <td>3931.009612</td>\n",
              "      <td>NaN</td>\n",
              "    </tr>\n",
              "  </tbody>\n",
              "</table>\n",
              "</div>\n",
              "    <div class=\"colab-df-buttons\">\n",
              "\n",
              "  <div class=\"colab-df-container\">\n",
              "    <button class=\"colab-df-convert\" onclick=\"convertToInteractive('df-4400ae53-9e62-4100-92ad-9341d8552b1f')\"\n",
              "            title=\"Convert this dataframe to an interactive table.\"\n",
              "            style=\"display:none;\">\n",
              "\n",
              "  <svg xmlns=\"http://www.w3.org/2000/svg\" height=\"24px\" viewBox=\"0 -960 960 960\">\n",
              "    <path d=\"M120-120v-720h720v720H120Zm60-500h600v-160H180v160Zm220 220h160v-160H400v160Zm0 220h160v-160H400v160ZM180-400h160v-160H180v160Zm440 0h160v-160H620v160ZM180-180h160v-160H180v160Zm440 0h160v-160H620v160Z\"/>\n",
              "  </svg>\n",
              "    </button>\n",
              "\n",
              "  <style>\n",
              "    .colab-df-container {\n",
              "      display:flex;\n",
              "      gap: 12px;\n",
              "    }\n",
              "\n",
              "    .colab-df-convert {\n",
              "      background-color: #E8F0FE;\n",
              "      border: none;\n",
              "      border-radius: 50%;\n",
              "      cursor: pointer;\n",
              "      display: none;\n",
              "      fill: #1967D2;\n",
              "      height: 32px;\n",
              "      padding: 0 0 0 0;\n",
              "      width: 32px;\n",
              "    }\n",
              "\n",
              "    .colab-df-convert:hover {\n",
              "      background-color: #E2EBFA;\n",
              "      box-shadow: 0px 1px 2px rgba(60, 64, 67, 0.3), 0px 1px 3px 1px rgba(60, 64, 67, 0.15);\n",
              "      fill: #174EA6;\n",
              "    }\n",
              "\n",
              "    .colab-df-buttons div {\n",
              "      margin-bottom: 4px;\n",
              "    }\n",
              "\n",
              "    [theme=dark] .colab-df-convert {\n",
              "      background-color: #3B4455;\n",
              "      fill: #D2E3FC;\n",
              "    }\n",
              "\n",
              "    [theme=dark] .colab-df-convert:hover {\n",
              "      background-color: #434B5C;\n",
              "      box-shadow: 0px 1px 3px 1px rgba(0, 0, 0, 0.15);\n",
              "      filter: drop-shadow(0px 1px 2px rgba(0, 0, 0, 0.3));\n",
              "      fill: #FFFFFF;\n",
              "    }\n",
              "  </style>\n",
              "\n",
              "    <script>\n",
              "      const buttonEl =\n",
              "        document.querySelector('#df-4400ae53-9e62-4100-92ad-9341d8552b1f button.colab-df-convert');\n",
              "      buttonEl.style.display =\n",
              "        google.colab.kernel.accessAllowed ? 'block' : 'none';\n",
              "\n",
              "      async function convertToInteractive(key) {\n",
              "        const element = document.querySelector('#df-4400ae53-9e62-4100-92ad-9341d8552b1f');\n",
              "        const dataTable =\n",
              "          await google.colab.kernel.invokeFunction('convertToInteractive',\n",
              "                                                    [key], {});\n",
              "        if (!dataTable) return;\n",
              "\n",
              "        const docLinkHtml = 'Like what you see? Visit the ' +\n",
              "          '<a target=\"_blank\" href=https://colab.research.google.com/notebooks/data_table.ipynb>data table notebook</a>'\n",
              "          + ' to learn more about interactive tables.';\n",
              "        element.innerHTML = '';\n",
              "        dataTable['output_type'] = 'display_data';\n",
              "        await google.colab.output.renderOutput(dataTable, element);\n",
              "        const docLink = document.createElement('div');\n",
              "        docLink.innerHTML = docLinkHtml;\n",
              "        element.appendChild(docLink);\n",
              "      }\n",
              "    </script>\n",
              "  </div>\n",
              "\n",
              "\n",
              "<div id=\"df-96cd7f7e-7d7a-4e90-94e7-aef1917e7b37\">\n",
              "  <button class=\"colab-df-quickchart\" onclick=\"quickchart('df-96cd7f7e-7d7a-4e90-94e7-aef1917e7b37')\"\n",
              "            title=\"Suggest charts\"\n",
              "            style=\"display:none;\">\n",
              "\n",
              "<svg xmlns=\"http://www.w3.org/2000/svg\" height=\"24px\"viewBox=\"0 0 24 24\"\n",
              "     width=\"24px\">\n",
              "    <g>\n",
              "        <path d=\"M19 3H5c-1.1 0-2 .9-2 2v14c0 1.1.9 2 2 2h14c1.1 0 2-.9 2-2V5c0-1.1-.9-2-2-2zM9 17H7v-7h2v7zm4 0h-2V7h2v10zm4 0h-2v-4h2v4z\"/>\n",
              "    </g>\n",
              "</svg>\n",
              "  </button>\n",
              "\n",
              "<style>\n",
              "  .colab-df-quickchart {\n",
              "      --bg-color: #E8F0FE;\n",
              "      --fill-color: #1967D2;\n",
              "      --hover-bg-color: #E2EBFA;\n",
              "      --hover-fill-color: #174EA6;\n",
              "      --disabled-fill-color: #AAA;\n",
              "      --disabled-bg-color: #DDD;\n",
              "  }\n",
              "\n",
              "  [theme=dark] .colab-df-quickchart {\n",
              "      --bg-color: #3B4455;\n",
              "      --fill-color: #D2E3FC;\n",
              "      --hover-bg-color: #434B5C;\n",
              "      --hover-fill-color: #FFFFFF;\n",
              "      --disabled-bg-color: #3B4455;\n",
              "      --disabled-fill-color: #666;\n",
              "  }\n",
              "\n",
              "  .colab-df-quickchart {\n",
              "    background-color: var(--bg-color);\n",
              "    border: none;\n",
              "    border-radius: 50%;\n",
              "    cursor: pointer;\n",
              "    display: none;\n",
              "    fill: var(--fill-color);\n",
              "    height: 32px;\n",
              "    padding: 0;\n",
              "    width: 32px;\n",
              "  }\n",
              "\n",
              "  .colab-df-quickchart:hover {\n",
              "    background-color: var(--hover-bg-color);\n",
              "    box-shadow: 0 1px 2px rgba(60, 64, 67, 0.3), 0 1px 3px 1px rgba(60, 64, 67, 0.15);\n",
              "    fill: var(--button-hover-fill-color);\n",
              "  }\n",
              "\n",
              "  .colab-df-quickchart-complete:disabled,\n",
              "  .colab-df-quickchart-complete:disabled:hover {\n",
              "    background-color: var(--disabled-bg-color);\n",
              "    fill: var(--disabled-fill-color);\n",
              "    box-shadow: none;\n",
              "  }\n",
              "\n",
              "  .colab-df-spinner {\n",
              "    border: 2px solid var(--fill-color);\n",
              "    border-color: transparent;\n",
              "    border-bottom-color: var(--fill-color);\n",
              "    animation:\n",
              "      spin 1s steps(1) infinite;\n",
              "  }\n",
              "\n",
              "  @keyframes spin {\n",
              "    0% {\n",
              "      border-color: transparent;\n",
              "      border-bottom-color: var(--fill-color);\n",
              "      border-left-color: var(--fill-color);\n",
              "    }\n",
              "    20% {\n",
              "      border-color: transparent;\n",
              "      border-left-color: var(--fill-color);\n",
              "      border-top-color: var(--fill-color);\n",
              "    }\n",
              "    30% {\n",
              "      border-color: transparent;\n",
              "      border-left-color: var(--fill-color);\n",
              "      border-top-color: var(--fill-color);\n",
              "      border-right-color: var(--fill-color);\n",
              "    }\n",
              "    40% {\n",
              "      border-color: transparent;\n",
              "      border-right-color: var(--fill-color);\n",
              "      border-top-color: var(--fill-color);\n",
              "    }\n",
              "    60% {\n",
              "      border-color: transparent;\n",
              "      border-right-color: var(--fill-color);\n",
              "    }\n",
              "    80% {\n",
              "      border-color: transparent;\n",
              "      border-right-color: var(--fill-color);\n",
              "      border-bottom-color: var(--fill-color);\n",
              "    }\n",
              "    90% {\n",
              "      border-color: transparent;\n",
              "      border-bottom-color: var(--fill-color);\n",
              "    }\n",
              "  }\n",
              "</style>\n",
              "\n",
              "  <script>\n",
              "    async function quickchart(key) {\n",
              "      const quickchartButtonEl =\n",
              "        document.querySelector('#' + key + ' button');\n",
              "      quickchartButtonEl.disabled = true;  // To prevent multiple clicks.\n",
              "      quickchartButtonEl.classList.add('colab-df-spinner');\n",
              "      try {\n",
              "        const charts = await google.colab.kernel.invokeFunction(\n",
              "            'suggestCharts', [key], {});\n",
              "      } catch (error) {\n",
              "        console.error('Error during call to suggestCharts:', error);\n",
              "      }\n",
              "      quickchartButtonEl.classList.remove('colab-df-spinner');\n",
              "      quickchartButtonEl.classList.add('colab-df-quickchart-complete');\n",
              "    }\n",
              "    (() => {\n",
              "      let quickchartButtonEl =\n",
              "        document.querySelector('#df-96cd7f7e-7d7a-4e90-94e7-aef1917e7b37 button');\n",
              "      quickchartButtonEl.style.display =\n",
              "        google.colab.kernel.accessAllowed ? 'block' : 'none';\n",
              "    })();\n",
              "  </script>\n",
              "</div>\n",
              "    </div>\n",
              "  </div>\n"
            ],
            "application/vnd.google.colaboratory.intrinsic+json": {
              "type": "dataframe",
              "variable_name": "df",
              "summary": "{\n  \"name\": \"df\",\n  \"rows\": 111,\n  \"fields\": [\n    {\n      \"column\": \"id\",\n      \"properties\": {\n        \"dtype\": \"string\",\n        \"num_unique_values\": 111,\n        \"samples\": [\n          \"S9mzsx6xefiBH8m5fwQ80Q\",\n          \"SslytQ5fGcY7DN5a5vRi5A\",\n          \"Kx1x7Kf6C2gtogQErWSu0A\"\n        ],\n        \"semantic_type\": \"\",\n        \"description\": \"\"\n      }\n    },\n    {\n      \"column\": \"alias\",\n      \"properties\": {\n        \"dtype\": \"string\",\n        \"num_unique_values\": 111,\n        \"samples\": [\n          \"publix-simpsonville-2\",\n          \"hibachi-cafe-greenville\",\n          \"o-ku-greenville\"\n        ],\n        \"semantic_type\": \"\",\n        \"description\": \"\"\n      }\n    },\n    {\n      \"column\": \"name\",\n      \"properties\": {\n        \"dtype\": \"string\",\n        \"num_unique_values\": 99,\n        \"samples\": [\n          \"Oriental House\",\n          \"Miyoko Japanese Steakhouse\",\n          \"The Cheesecake Factory\"\n        ],\n        \"semantic_type\": \"\",\n        \"description\": \"\"\n      }\n    },\n    {\n      \"column\": \"image_url\",\n      \"properties\": {\n        \"dtype\": \"string\",\n        \"num_unique_values\": 111,\n        \"samples\": [\n          \"https://s3-media2.fl.yelpcdn.com/bphoto/oG5I8z_6SUHfcLhaVI__NA/o.jpg\",\n          \"https://s3-media1.fl.yelpcdn.com/bphoto/AYwmKGefwXoqxGK96Rcq-g/o.jpg\",\n          \"https://s3-media2.fl.yelpcdn.com/bphoto/7dR0xyqxBxJP_PeVCsusWA/o.jpg\"\n        ],\n        \"semantic_type\": \"\",\n        \"description\": \"\"\n      }\n    },\n    {\n      \"column\": \"is_closed\",\n      \"properties\": {\n        \"dtype\": \"boolean\",\n        \"num_unique_values\": 1,\n        \"samples\": [\n          false\n        ],\n        \"semantic_type\": \"\",\n        \"description\": \"\"\n      }\n    },\n    {\n      \"column\": \"url\",\n      \"properties\": {\n        \"dtype\": \"string\",\n        \"num_unique_values\": 111,\n        \"samples\": [\n          \"https://www.yelp.com/biz/publix-simpsonville-2?adjust_creative=6fFqZ5IBUg9I_Y2a4LUQeA&utm_campaign=yelp_api_v3&utm_medium=api_v3_business_search&utm_source=6fFqZ5IBUg9I_Y2a4LUQeA\"\n        ],\n        \"semantic_type\": \"\",\n        \"description\": \"\"\n      }\n    },\n    {\n      \"column\": \"review_count\",\n      \"properties\": {\n        \"dtype\": \"number\",\n        \"std\": 130,\n        \"min\": 2,\n        \"max\": 1021,\n        \"num_unique_values\": 84,\n        \"samples\": [\n          183\n        ],\n        \"semantic_type\": \"\",\n        \"description\": \"\"\n      }\n    },\n    {\n      \"column\": \"categories\",\n      \"properties\": {\n        \"dtype\": \"object\",\n        \"semantic_type\": \"\",\n        \"description\": \"\"\n      }\n    },\n    {\n      \"column\": \"rating\",\n      \"properties\": {\n        \"dtype\": \"number\",\n        \"std\": 0.6188653060192234,\n        \"min\": 1.6,\n        \"max\": 5.0,\n        \"num_unique_values\": 25,\n        \"samples\": [\n          3.6\n        ],\n        \"semantic_type\": \"\",\n        \"description\": \"\"\n      }\n    },\n    {\n      \"column\": \"coordinates\",\n      \"properties\": {\n        \"dtype\": \"object\",\n        \"semantic_type\": \"\",\n        \"description\": \"\"\n      }\n    },\n    {\n      \"column\": \"transactions\",\n      \"properties\": {\n        \"dtype\": \"object\",\n        \"semantic_type\": \"\",\n        \"description\": \"\"\n      }\n    },\n    {\n      \"column\": \"location\",\n      \"properties\": {\n        \"dtype\": \"object\",\n        \"semantic_type\": \"\",\n        \"description\": \"\"\n      }\n    },\n    {\n      \"column\": \"phone\",\n      \"properties\": {\n        \"dtype\": \"string\",\n        \"num_unique_values\": 105,\n        \"samples\": [\n          \"+18649623668\"\n        ],\n        \"semantic_type\": \"\",\n        \"description\": \"\"\n      }\n    },\n    {\n      \"column\": \"display_phone\",\n      \"properties\": {\n        \"dtype\": \"string\",\n        \"num_unique_values\": 105,\n        \"samples\": [\n          \"(864) 962-3668\"\n        ],\n        \"semantic_type\": \"\",\n        \"description\": \"\"\n      }\n    },\n    {\n      \"column\": \"distance\",\n      \"properties\": {\n        \"dtype\": \"number\",\n        \"std\": 4883.733204165183,\n        \"min\": 653.0490265231333,\n        \"max\": 18437.432245844797,\n        \"num_unique_values\": 109,\n        \"samples\": [\n          8333.849906427533\n        ],\n        \"semantic_type\": \"\",\n        \"description\": \"\"\n      }\n    },\n    {\n      \"column\": \"price\",\n      \"properties\": {\n        \"dtype\": \"category\",\n        \"num_unique_values\": 3,\n        \"samples\": [\n          \"$$\"\n        ],\n        \"semantic_type\": \"\",\n        \"description\": \"\"\n      }\n    }\n  ]\n}"
            }
          },
          "metadata": {},
          "execution_count": 16
        }
      ]
    },
    {
      "cell_type": "markdown",
      "source": [
        "## Save the file in the directory"
      ],
      "metadata": {
        "id": "Z6ROaGoLFXSL"
      }
    },
    {
      "cell_type": "code",
      "source": [
        "# specify the directory\n",
        "directory = '/content/drive/MyDrive/Colab Notebooks/Data'\n",
        "filename = 'final_results_SC_sushi.csv.gz' #make sure to include the .csv.gz extension\n",
        "path = os.path.join(directory, filename)\n",
        "\n",
        "# ensure that the 'Data' directory exists\n",
        "os.makedirs(directory, exist_ok=True)\n",
        "\n",
        "# save the dataframe as a compressed csv file (to save space)\n",
        "df.to_csv(path, compression='gzip', index=False)\n",
        "# df was defined in the previous code block: df = pd.read_json(JSON_FILE)"
      ],
      "metadata": {
        "id": "jl3GCeT3FWuZ"
      },
      "execution_count": null,
      "outputs": []
    },
    {
      "cell_type": "code",
      "source": [
        "# save as JSON file\n",
        "json_file = '/content/drive/MyDrive/Colab Notebooks/Data/final_results_SC_sushi.json'\n",
        "# add Data folders copied path before /final_results_SC_sushi.json\n",
        "\n",
        "# save the json as a dataframe\n",
        "df.to_json(json_file, orient='records', lines=True)"
      ],
      "metadata": {
        "id": "YA2JwwTgGOWE"
      },
      "execution_count": null,
      "outputs": []
    },
    {
      "cell_type": "code",
      "source": [
        "# save the file as gzip\n",
        "csv_gz_file = json_file.replace('.json','.csv.gz')\n",
        "\n",
        "# save the dataframe as a compressed csv without the index\n",
        "df.to_csv(csv_gz_file, compression='gzip',index=False)"
      ],
      "metadata": {
        "id": "sPk-CKHqHP1t"
      },
      "execution_count": null,
      "outputs": []
    },
    {
      "cell_type": "markdown",
      "source": [],
      "metadata": {
        "id": "5djlw7CD7ORK"
      }
    }
  ]
}